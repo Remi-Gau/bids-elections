{
 "cells": [
  {
   "cell_type": "code",
   "execution_count": 1,
   "metadata": {},
   "outputs": [],
   "source": [
    "import numpy as np\n",
    "import pandas as pd\n",
    "from collections import Counter"
   ]
  },
  {
   "cell_type": "code",
   "execution_count": 2,
   "metadata": {},
   "outputs": [],
   "source": [
    "raw_votes = pd.read_csv('bids_votes.tsv', delimiter='\\t', na_values='n/a')"
   ]
  },
  {
   "cell_type": "code",
   "execution_count": 3,
   "metadata": {},
   "outputs": [],
   "source": [
    "# Votes were manually inspected for potential issues, and marked with the following key:\n",
    "# K: Keep - possible multiple vote or attempted correction, but reasonable doubt exists\n",
    "# E: Clear multiple vote\n",
    "# D: Duplicate entry (e.g., two \"First choice\" responses)\n",
    "# N: Voted not to ratify governance, not counted\n",
    "# T: Submitted after deadline\n",
    "#\n",
    "# Votes that did not raise any flags had no marking and are loaded as np.nan\n",
    "valid_votes = raw_votes[raw_votes.Decision.fillna('K') == 'K']\n",
    "numeric_votes = valid_votes.replace({\n",
    "    'First choice': 1,\n",
    "    'Second choice': 2,\n",
    "    'Third choice': 3,\n",
    "    'Fourth choice': 4,\n",
    "    'Fifth choice': 5,\n",
    "    'Sixth choice': 6,\n",
    "})\n",
    "# Drop timestamp, decision and governance vote\n",
    "votes = numeric_votes.T[3:].T\n",
    "votes.columns = ['Pernet', 'Poldrack', 'Auer', 'Phillips', 'Pisner', 'Niso']"
   ]
  },
  {
   "cell_type": "code",
   "execution_count": 4,
   "metadata": {},
   "outputs": [
    {
     "data": {
      "text/html": [
       "<div>\n",
       "<style scoped>\n",
       "    .dataframe tbody tr th:only-of-type {\n",
       "        vertical-align: middle;\n",
       "    }\n",
       "\n",
       "    .dataframe tbody tr th {\n",
       "        vertical-align: top;\n",
       "    }\n",
       "\n",
       "    .dataframe thead th {\n",
       "        text-align: right;\n",
       "    }\n",
       "</style>\n",
       "<table border=\"1\" class=\"dataframe\">\n",
       "  <thead>\n",
       "    <tr style=\"text-align: right;\">\n",
       "      <th></th>\n",
       "      <th>Pernet</th>\n",
       "      <th>Poldrack</th>\n",
       "      <th>Auer</th>\n",
       "      <th>Phillips</th>\n",
       "      <th>Pisner</th>\n",
       "      <th>Niso</th>\n",
       "    </tr>\n",
       "  </thead>\n",
       "  <tbody>\n",
       "    <tr>\n",
       "      <td>0</td>\n",
       "      <td>3</td>\n",
       "      <td>1</td>\n",
       "      <td>2</td>\n",
       "      <td>4</td>\n",
       "      <td>6</td>\n",
       "      <td>5</td>\n",
       "    </tr>\n",
       "    <tr>\n",
       "      <td>1</td>\n",
       "      <td>3</td>\n",
       "      <td>1</td>\n",
       "      <td>6</td>\n",
       "      <td>4</td>\n",
       "      <td>5</td>\n",
       "      <td>2</td>\n",
       "    </tr>\n",
       "    <tr>\n",
       "      <td>2</td>\n",
       "      <td>5</td>\n",
       "      <td>4</td>\n",
       "      <td>1</td>\n",
       "      <td>NaN</td>\n",
       "      <td>6</td>\n",
       "      <td>2</td>\n",
       "    </tr>\n",
       "  </tbody>\n",
       "</table>\n",
       "</div>"
      ],
      "text/plain": [
       "  Pernet Poldrack Auer Phillips Pisner Niso\n",
       "0      3        1    2        4      6    5\n",
       "1      3        1    6        4      5    2\n",
       "2      5        4    1      NaN      6    2"
      ]
     },
     "execution_count": 4,
     "metadata": {},
     "output_type": "execute_result"
    }
   ],
   "source": [
    "votes[:3]"
   ]
  },
  {
   "cell_type": "code",
   "execution_count": 5,
   "metadata": {},
   "outputs": [
    {
     "name": "stdout",
     "output_type": "stream",
     "text": [
      "[3. 1. 2. 4. 6. 5.]\n",
      "Index(['Poldrack', 'Auer', 'Pernet', 'Phillips', 'Niso', 'Pisner'], dtype='object')\n",
      "[3. 1. 6. 4. 5. 2.]\n",
      "Index(['Poldrack', 'Niso', 'Pernet', 'Phillips', 'Pisner', 'Auer'], dtype='object')\n",
      "[ 5.  4.  1. nan  6.  2.]\n",
      "Index(['Auer', 'Niso', 'Poldrack', 'Pernet', 'Pisner'], dtype='object')\n"
     ]
    }
   ],
   "source": [
    "# Validate that ordering strategy works with nans\n",
    "for vote in votes.values.astype(np.float)[:3]:\n",
    "    choices = votes.columns[~np.isnan(vote)]\n",
    "    ranks = vote[~np.isnan(vote)]\n",
    "    ballot = choices[np.argsort(ranks)]\n",
    "    print(vote)\n",
    "    print(ballot)"
   ]
  },
  {
   "cell_type": "code",
   "execution_count": 6,
   "metadata": {},
   "outputs": [],
   "source": [
    "ballots = []\n",
    "for i, vote in enumerate(votes.values.astype(np.float), start=2):\n",
    "    choices = votes.columns[~np.isnan(vote)]\n",
    "    ranks = vote[~np.isnan(vote)]\n",
    "    # Check if any duplicate entries missed manual inspection\n",
    "    if len(ranks) != len(set(ranks)):\n",
    "        print(i, vote)\n",
    "    ballots.append(list(choices[np.argsort(ranks)]))"
   ]
  },
  {
   "cell_type": "code",
   "execution_count": 7,
   "metadata": {},
   "outputs": [],
   "source": [
    "def count_votes(ballots):\n",
    "    # Find first choices, dropping empty ballots (can happen after first prune)\n",
    "    first_choice = [ballot[0] for ballot in ballots if ballot]\n",
    "    # Sort first choices by number of votes, most votes first\n",
    "    return sorted(\n",
    "        Counter(first_choice).items(),\n",
    "        key=lambda x: x[1],\n",
    "        reverse=True)\n",
    "\n",
    "def prune(ballots, remove_slate):\n",
    "    # Filter the removed slate from all ballots\n",
    "    return [[slate for slate in ballot if slate != remove_slate]\n",
    "            for ballot in ballots]"
   ]
  },
  {
   "cell_type": "code",
   "execution_count": 8,
   "metadata": {},
   "outputs": [
    {
     "data": {
      "text/plain": [
       "[('Niso', 47),\n",
       " ('Poldrack', 42),\n",
       " ('Pernet', 42),\n",
       " ('Pisner', 15),\n",
       " ('Phillips', 9),\n",
       " ('Auer', 8)]"
      ]
     },
     "execution_count": 8,
     "metadata": {},
     "output_type": "execute_result"
    }
   ],
   "source": [
    "count_votes(ballots)"
   ]
  },
  {
   "cell_type": "code",
   "execution_count": 9,
   "metadata": {},
   "outputs": [
    {
     "data": {
      "text/plain": [
       "[('Niso', 49),\n",
       " ('Poldrack', 46),\n",
       " ('Pernet', 42),\n",
       " ('Pisner', 15),\n",
       " ('Phillips', 10)]"
      ]
     },
     "execution_count": 9,
     "metadata": {},
     "output_type": "execute_result"
    }
   ],
   "source": [
    "round1 = prune(ballots, 'Auer')\n",
    "count_votes(round1)"
   ]
  },
  {
   "cell_type": "code",
   "execution_count": 10,
   "metadata": {},
   "outputs": [
    {
     "data": {
      "text/plain": [
       "[('Niso', 53), ('Poldrack', 47), ('Pernet', 46), ('Pisner', 16)]"
      ]
     },
     "execution_count": 10,
     "metadata": {},
     "output_type": "execute_result"
    }
   ],
   "source": [
    "round2 = prune(round1, 'Phillips')\n",
    "count_votes(round2)"
   ]
  },
  {
   "cell_type": "code",
   "execution_count": 11,
   "metadata": {},
   "outputs": [
    {
     "data": {
      "text/plain": [
       "[('Niso', 58), ('Poldrack', 55), ('Pernet', 49)]"
      ]
     },
     "execution_count": 11,
     "metadata": {},
     "output_type": "execute_result"
    }
   ],
   "source": [
    "round3 = prune(round2, 'Pisner')\n",
    "count_votes(round3)"
   ]
  },
  {
   "cell_type": "code",
   "execution_count": 12,
   "metadata": {},
   "outputs": [
    {
     "data": {
      "text/plain": [
       "[('Niso', 90), ('Poldrack', 70)]"
      ]
     },
     "execution_count": 12,
     "metadata": {},
     "output_type": "execute_result"
    }
   ],
   "source": [
    "round4 = prune(round3, 'Pernet')\n",
    "count_votes(round4)"
   ]
  },
  {
   "cell_type": "code",
   "execution_count": null,
   "metadata": {},
   "outputs": [],
   "source": []
  }
 ],
 "metadata": {
  "kernelspec": {
   "display_name": "Python 3",
   "language": "python",
   "name": "python3"
  },
  "language_info": {
   "codemirror_mode": {
    "name": "ipython",
    "version": 3
   },
   "file_extension": ".py",
   "mimetype": "text/x-python",
   "name": "python",
   "nbconvert_exporter": "python",
   "pygments_lexer": "ipython3",
   "version": "3.7.4"
  }
 },
 "nbformat": 4,
 "nbformat_minor": 2
}
