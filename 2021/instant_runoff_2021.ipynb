{
 "cells": [
  {
   "cell_type": "markdown",
   "metadata": {},
   "source": [
    "# BIDS Steering Group Election 2021\n",
    "\n",
    "This file, along with `votes.csv`, reproduces the ballot counting procedure for the BIDS Steering Group election of 2021.\n",
    "\n",
    "Voting was done according to a ranked choice voting scheme, and tallied using an Instant Runoff procedure."
   ]
  },
  {
   "cell_type": "code",
   "execution_count": 1,
   "metadata": {},
   "outputs": [],
   "source": [
    "import numpy as np\n",
    "import pandas as pd\n",
    "from collections import Counter\n",
    "from pprint import pprint"
   ]
  },
  {
   "cell_type": "code",
   "execution_count": 2,
   "metadata": {},
   "outputs": [],
   "source": [
    "raw_votes = pd.read_csv('votes.csv', na_values='N/A', index_col=\"Timestamp\", parse_dates=True)"
   ]
  },
  {
   "cell_type": "code",
   "execution_count": 3,
   "metadata": {},
   "outputs": [],
   "source": [
    "def extract_name(field):\n",
    "    return field.split(\"[\")[1][:-1]\n",
    "\n",
    "votes = raw_votes.rename(columns=extract_name)"
   ]
  },
  {
   "cell_type": "markdown",
   "metadata": {},
   "source": [
    "Ballots are a numeric ranking, with the top choice (most preferable) of 1. N/A votes were permitted and are ensure a ballot will never count for a candidate."
   ]
  },
  {
   "cell_type": "code",
   "execution_count": 4,
   "metadata": {},
   "outputs": [
    {
     "data": {
      "text/html": [
       "<div>\n",
       "<style scoped>\n",
       "    .dataframe tbody tr th:only-of-type {\n",
       "        vertical-align: middle;\n",
       "    }\n",
       "\n",
       "    .dataframe tbody tr th {\n",
       "        vertical-align: top;\n",
       "    }\n",
       "\n",
       "    .dataframe thead th {\n",
       "        text-align: right;\n",
       "    }\n",
       "</style>\n",
       "<table border=\"1\" class=\"dataframe\">\n",
       "  <thead>\n",
       "    <tr style=\"text-align: right;\">\n",
       "      <th></th>\n",
       "      <th>Matthew Cieslak</th>\n",
       "      <th>Eric Earl</th>\n",
       "      <th>Helena Ledmyr</th>\n",
       "      <th>Robert Luke</th>\n",
       "      <th>Franco Pestilli</th>\n",
       "      <th>Petra Ritter</th>\n",
       "      <th>Ariel Rokem</th>\n",
       "      <th>Hao-Ting Wang</th>\n",
       "    </tr>\n",
       "    <tr>\n",
       "      <th>Timestamp</th>\n",
       "      <th></th>\n",
       "      <th></th>\n",
       "      <th></th>\n",
       "      <th></th>\n",
       "      <th></th>\n",
       "      <th></th>\n",
       "      <th></th>\n",
       "      <th></th>\n",
       "    </tr>\n",
       "  </thead>\n",
       "  <tbody>\n",
       "    <tr>\n",
       "      <th>2021-10-26 18:56:53</th>\n",
       "      <td>1.0</td>\n",
       "      <td>2.0</td>\n",
       "      <td>3.0</td>\n",
       "      <td>4.0</td>\n",
       "      <td>5</td>\n",
       "      <td>6</td>\n",
       "      <td>7</td>\n",
       "      <td>8.0</td>\n",
       "    </tr>\n",
       "    <tr>\n",
       "      <th>2021-10-26 19:02:24</th>\n",
       "      <td>1.0</td>\n",
       "      <td>7.0</td>\n",
       "      <td>3.0</td>\n",
       "      <td>NaN</td>\n",
       "      <td>8</td>\n",
       "      <td>5</td>\n",
       "      <td>2</td>\n",
       "      <td>4.0</td>\n",
       "    </tr>\n",
       "    <tr>\n",
       "      <th>2021-10-26 19:14:23</th>\n",
       "      <td>8.0</td>\n",
       "      <td>7.0</td>\n",
       "      <td>4.0</td>\n",
       "      <td>1.0</td>\n",
       "      <td>2</td>\n",
       "      <td>3</td>\n",
       "      <td>5</td>\n",
       "      <td>6.0</td>\n",
       "    </tr>\n",
       "  </tbody>\n",
       "</table>\n",
       "</div>"
      ],
      "text/plain": [
       "                     Matthew Cieslak  Eric Earl  Helena Ledmyr  Robert Luke  \\\n",
       "Timestamp                                                                     \n",
       "2021-10-26 18:56:53              1.0        2.0            3.0          4.0   \n",
       "2021-10-26 19:02:24              1.0        7.0            3.0          NaN   \n",
       "2021-10-26 19:14:23              8.0        7.0            4.0          1.0   \n",
       "\n",
       "                     Franco Pestilli  Petra Ritter  Ariel Rokem  Hao-Ting Wang  \n",
       "Timestamp                                                                       \n",
       "2021-10-26 18:56:53                5             6            7            8.0  \n",
       "2021-10-26 19:02:24                8             5            2            4.0  \n",
       "2021-10-26 19:14:23                2             3            5            6.0  "
      ]
     },
     "execution_count": 4,
     "metadata": {},
     "output_type": "execute_result"
    }
   ],
   "source": [
    "votes[:3]"
   ]
  },
  {
   "cell_type": "code",
   "execution_count": 5,
   "metadata": {},
   "outputs": [
    {
     "name": "stdout",
     "output_type": "stream",
     "text": [
      "[1. 2. 3. 4. 5. 6. 7. 8.]\n",
      "['Matthew Cieslak', 'Eric Earl', 'Helena Ledmyr', 'Robert Luke', 'Franco Pestilli', 'Petra Ritter', 'Ariel Rokem', 'Hao-Ting Wang']\n",
      "[ 1.  7.  3. nan  8.  5.  2.  4.]\n",
      "['Matthew Cieslak', 'Ariel Rokem', 'Helena Ledmyr', 'Hao-Ting Wang', 'Petra Ritter', 'Eric Earl', 'Franco Pestilli']\n",
      "[8. 7. 4. 1. 2. 3. 5. 6.]\n",
      "['Robert Luke', 'Franco Pestilli', 'Petra Ritter', 'Helena Ledmyr', 'Ariel Rokem', 'Hao-Ting Wang', 'Eric Earl', 'Matthew Cieslak']\n"
     ]
    }
   ],
   "source": [
    "def ranked_choices(vote):\n",
    "    choices = votes.columns[~np.isnan(vote)]\n",
    "    ranks = vote[~np.isnan(vote)]\n",
    "    # Validate that no ballot had ties (should have been prevented by the form)\n",
    "    assert len(ranks) == len(set(ranks))\n",
    "    return list(choices[np.argsort(ranks)])\n",
    "\n",
    "# Validate that ordering strategy works with NaNs\n",
    "for vote in votes.values.astype(float)[:3]:\n",
    "    print(vote)\n",
    "    print(ranked_choices(vote))"
   ]
  },
  {
   "cell_type": "code",
   "execution_count": 6,
   "metadata": {},
   "outputs": [],
   "source": [
    "ballots = [ranked_choices(vote) for vote in votes.values.astype(float)]"
   ]
  },
  {
   "cell_type": "markdown",
   "metadata": {},
   "source": [
    "Here we implement the instant runoff procedure."
   ]
  },
  {
   "cell_type": "code",
   "execution_count": 7,
   "metadata": {},
   "outputs": [],
   "source": [
    "def count_votes(ballots):\n",
    "    # Find first choices, dropping empty ballots (can happen after first prune)\n",
    "    first_choice = [ballot[0] for ballot in ballots if ballot]\n",
    "    # Sort first choices by number of votes, most votes first\n",
    "    return sorted(\n",
    "        Counter(first_choice).items(),\n",
    "        key=lambda x: x[1],\n",
    "        reverse=True)\n",
    "\n",
    "def prune(ballots, remove_candidate):\n",
    "    # Filter the removed candidate from all ballots\n",
    "    return [[cand for cand in ballot if cand != remove_candidate]\n",
    "            for ballot in ballots]\n",
    "\n",
    "def instant_runoff(ballots, round=1):\n",
    "    tally = count_votes(ballots)\n",
    "\n",
    "    print(f\"Round {round}:\")\n",
    "    pprint(tally)\n",
    "    \n",
    "    if len(tally) <= 2:\n",
    "        candidate, votes = tally.pop(0)\n",
    "        print(f\"--------\")\n",
    "        print(f\"Winner: {candidate}, with {votes} votes\")\n",
    "    else:\n",
    "        candidate, votes = tally.pop()\n",
    "        print(f\"Removing {candidate}, reallocating {votes} votes\")\n",
    "        print(f\"--------\")\n",
    "        # Rerun with pruned ballots\n",
    "        instant_runoff(prune(ballots, candidate), round=round+1)"
   ]
  },
  {
   "cell_type": "code",
   "execution_count": 8,
   "metadata": {},
   "outputs": [
    {
     "name": "stdout",
     "output_type": "stream",
     "text": [
      "Round 1:\n",
      "[('Matthew Cieslak', 36),\n",
      " ('Ariel Rokem', 29),\n",
      " ('Robert Luke', 18),\n",
      " ('Petra Ritter', 14),\n",
      " ('Franco Pestilli', 12),\n",
      " ('Eric Earl', 11),\n",
      " ('Helena Ledmyr', 8),\n",
      " ('Hao-Ting Wang', 7)]\n",
      "Removing Hao-Ting Wang, reallocating 7 votes\n",
      "--------\n",
      "Round 2:\n",
      "[('Matthew Cieslak', 37),\n",
      " ('Ariel Rokem', 32),\n",
      " ('Robert Luke', 19),\n",
      " ('Petra Ritter', 14),\n",
      " ('Franco Pestilli', 13),\n",
      " ('Eric Earl', 12),\n",
      " ('Helena Ledmyr', 8)]\n",
      "Removing Helena Ledmyr, reallocating 8 votes\n",
      "--------\n",
      "Round 3:\n",
      "[('Matthew Cieslak', 37),\n",
      " ('Ariel Rokem', 34),\n",
      " ('Robert Luke', 19),\n",
      " ('Petra Ritter', 18),\n",
      " ('Eric Earl', 14),\n",
      " ('Franco Pestilli', 13)]\n",
      "Removing Franco Pestilli, reallocating 13 votes\n",
      "--------\n",
      "Round 4:\n",
      "[('Matthew Cieslak', 38),\n",
      " ('Ariel Rokem', 36),\n",
      " ('Petra Ritter', 24),\n",
      " ('Robert Luke', 21),\n",
      " ('Eric Earl', 16)]\n",
      "Removing Eric Earl, reallocating 16 votes\n",
      "--------\n",
      "Round 5:\n",
      "[('Ariel Rokem', 43),\n",
      " ('Matthew Cieslak', 39),\n",
      " ('Petra Ritter', 30),\n",
      " ('Robert Luke', 23)]\n",
      "Removing Robert Luke, reallocating 23 votes\n",
      "--------\n",
      "Round 6:\n",
      "[('Ariel Rokem', 52), ('Petra Ritter', 43), ('Matthew Cieslak', 40)]\n",
      "Removing Matthew Cieslak, reallocating 40 votes\n",
      "--------\n",
      "Round 7:\n",
      "[('Ariel Rokem', 71), ('Petra Ritter', 64)]\n",
      "--------\n",
      "Winner: Ariel Rokem, with 71 votes\n"
     ]
    }
   ],
   "source": [
    "instant_runoff(ballots)"
   ]
  }
 ],
 "metadata": {
  "kernelspec": {
   "display_name": "Python 3 (ipykernel)",
   "language": "python",
   "name": "python3"
  },
  "language_info": {
   "codemirror_mode": {
    "name": "ipython",
    "version": 3
   },
   "file_extension": ".py",
   "mimetype": "text/x-python",
   "name": "python",
   "nbconvert_exporter": "python",
   "pygments_lexer": "ipython3",
   "version": "3.8.10"
  }
 },
 "nbformat": 4,
 "nbformat_minor": 4
}
